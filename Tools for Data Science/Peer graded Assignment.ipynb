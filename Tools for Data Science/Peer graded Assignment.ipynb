{
 "cells": [
  {
   "cell_type": "markdown",
   "id": "217d544e",
   "metadata": {},
   "source": [
    "# My Jupyter Notebook on IBM Watson Studio"
   ]
  },
  {
   "cell_type": "markdown",
   "id": "dcd30d2a",
   "metadata": {},
   "source": [
    "__Kevin Juandi__\n",
    "\n",
    "Data Analyst"
   ]
  },
  {
   "cell_type": "markdown",
   "id": "44073145",
   "metadata": {},
   "source": [
    "*I am interested in data science because I enjoyed the work and had a lot of fun building machine learning models. I have done some data science projects including making house price prediction, Trump tweets analysis and building a chatbot.*"
   ]
  },
  {
   "cell_type": "markdown",
   "id": "3a63b4ea",
   "metadata": {},
   "source": [
    "### The code below is Hello World for Python"
   ]
  },
  {
   "cell_type": "code",
   "execution_count": 1,
   "id": "6dfc5366",
   "metadata": {
    "ExecuteTime": {
     "end_time": "2022-07-22T20:42:00.524318Z",
     "start_time": "2022-07-22T20:42:00.512605Z"
    }
   },
   "outputs": [
    {
     "name": "stdout",
     "output_type": "stream",
     "text": [
      "Hello World\n"
     ]
    }
   ],
   "source": [
    "print('Hello World')"
   ]
  },
  {
   "cell_type": "markdown",
   "id": "3414167f",
   "metadata": {},
   "source": [
    "---\n",
    "* one, two, three\n",
    "1. one\n",
    "2. two\n",
    "3. three\n",
    "\n",
    "[Let's google it](https://www.google.com)\n",
    "![alt text](https://lh3.googleusercontent.com/a2tvAf9zHGGL0nHqEobunWr1ukQKPHUgeoNAbX-VlamNXB42OqFvoVkJ6v5SHQxAgCqIMMSvDy3nxOoAg-NDhB9D6iYH3RGdjzoKp5qk=s660 \"Logo Title Text 1\")"
   ]
  }
 ],
 "metadata": {
  "kernelspec": {
   "display_name": "Python 3 (ipykernel)",
   "language": "python",
   "name": "python3"
  },
  "language_info": {
   "codemirror_mode": {
    "name": "ipython",
    "version": 3
   },
   "file_extension": ".py",
   "mimetype": "text/x-python",
   "name": "python",
   "nbconvert_exporter": "python",
   "pygments_lexer": "ipython3",
   "version": "3.9.7"
  },
  "toc": {
   "base_numbering": 1,
   "nav_menu": {},
   "number_sections": true,
   "sideBar": true,
   "skip_h1_title": false,
   "title_cell": "Table of Contents",
   "title_sidebar": "Contents",
   "toc_cell": false,
   "toc_position": {},
   "toc_section_display": true,
   "toc_window_display": false
  }
 },
 "nbformat": 4,
 "nbformat_minor": 5
}
